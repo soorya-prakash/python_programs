{
 "cells": [
  {
   "cell_type": "code",
   "execution_count": 15,
   "metadata": {},
   "outputs": [
    {
     "name": "stdout",
     "output_type": "stream",
     "text": [
      "how to get placed in top mnc companies\n",
      "such as cts,tcs,infosys\n",
      "as a software developer."
     ]
    }
   ],
   "source": [
    "with open(\"sample.txt\",'r') as file:\n",
    "    for line in file:\n",
    "        print(line,end='')"
   ]
  },
  {
   "cell_type": "code",
   "execution_count": 18,
   "metadata": {},
   "outputs": [
    {
     "name": "stdout",
     "output_type": "stream",
     "text": [
      "how to get placed in top mnc companies\n",
      "such as cts,tcs,infosys\n",
      "as a software developer.\n"
     ]
    }
   ],
   "source": [
    "#read()-reads whole content of the file\n",
    "with open(\"sample.txt\",'r') as file:\n",
    "    line=file.read()\n",
    "    print(line)"
   ]
  },
  {
   "cell_type": "code",
   "execution_count": 22,
   "metadata": {},
   "outputs": [
    {
     "name": "stdout",
     "output_type": "stream",
     "text": [
      "how to get placed in top mnc companies\n",
      "such as cts,tcs,infosys\n",
      "as a software developer."
     ]
    }
   ],
   "source": [
    "#readline()-reads line by line\n",
    "with open(\"sample.txt\",'r') as file:\n",
    "    line=file.readline()\n",
    "    for i in line:\n",
    "        print(line,end='')\n",
    "        line=file.readline()\n",
    "        "
   ]
  },
  {
   "cell_type": "code",
   "execution_count": 25,
   "metadata": {},
   "outputs": [
    {
     "name": "stdout",
     "output_type": "stream",
     "text": [
      "['how to get placed in top mnc companies\\n', 'such as cts,tcs,infosys\\n', 'as a software developer.']\n"
     ]
    }
   ],
   "source": [
    "#readlines()-reads each line and store in a list\n",
    "with open(\"sample.txt\",'r') as file:\n",
    "    line=file.readlines()\n",
    "    print(line)"
   ]
  },
  {
   "cell_type": "code",
   "execution_count": 16,
   "metadata": {},
   "outputs": [],
   "source": [
    "#writes numbers(2,30) to writer.txt,if file is not exist then creates new file\n",
    "with open(\"writer.txt\",'w') as fibo:\n",
    "    for i in range(2,31):\n",
    "        print(i,file=fibo)"
   ]
  },
  {
   "cell_type": "code",
   "execution_count": 26,
   "metadata": {},
   "outputs": [],
   "source": [
    "#appends numbers(31,50) to writer.txt file, if file is not exist then creates new file\n",
    "with open(\"writer.txt\",'a') as adder:\n",
    "    for i in range (31,51):\n",
    "        print(i,file=adder)"
   ]
  },
  {
   "cell_type": "code",
   "execution_count": 27,
   "metadata": {},
   "outputs": [],
   "source": []
  },
  {
   "cell_type": "code",
   "execution_count": null,
   "metadata": {},
   "outputs": [],
   "source": []
  }
 ],
 "metadata": {
  "kernelspec": {
   "display_name": "Python 3",
   "language": "python",
   "name": "python3"
  },
  "language_info": {
   "codemirror_mode": {
    "name": "ipython",
    "version": 3
   },
   "file_extension": ".py",
   "mimetype": "text/x-python",
   "name": "python",
   "nbconvert_exporter": "python",
   "pygments_lexer": "ipython3",
   "version": "3.7.0"
  }
 },
 "nbformat": 4,
 "nbformat_minor": 2
}
