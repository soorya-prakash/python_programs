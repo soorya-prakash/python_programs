{
 "cells": [
  {
   "cell_type": "code",
   "execution_count": 51,
   "metadata": {},
   "outputs": [
    {
     "name": "stdout",
     "output_type": "stream",
     "text": [
      "enter a string: a12b5c3\n",
      "aaaaaaaaaaaaaabbbbbccc"
     ]
    }
   ],
   "source": [
    "li=list(input(\"enter a string: \"))\n",
    "for i in range(len(li)):\n",
    "    if li[i].isalpha():\n",
    "        temp=li[i]\n",
    "    else: \n",
    "        if li[i].isdigit() and (i+1)<len(li) and li[(i+1)].isdigit():\n",
    "            compute=int(li[i+1])+(int(li[i]))*10\n",
    "            times=compute\n",
    "            print(temp * times,end=\"\")\n",
    "        else:\n",
    "            if li[i].isdigit():\n",
    "                times=int(li[i])\n",
    "                print(temp*times,end=\"\")\n",
    "            else:\n",
    "                print(\"given string is invalid\")\n",
    "    \n",
    "    "
   ]
  },
  {
   "cell_type": "code",
   "execution_count": null,
   "metadata": {},
   "outputs": [],
   "source": []
  }
 ],
 "metadata": {
  "kernelspec": {
   "display_name": "Python 3",
   "language": "python",
   "name": "python3"
  },
  "language_info": {
   "codemirror_mode": {
    "name": "ipython",
    "version": 3
   },
   "file_extension": ".py",
   "mimetype": "text/x-python",
   "name": "python",
   "nbconvert_exporter": "python",
   "pygments_lexer": "ipython3",
   "version": "3.7.0"
  }
 },
 "nbformat": 4,
 "nbformat_minor": 2
}
