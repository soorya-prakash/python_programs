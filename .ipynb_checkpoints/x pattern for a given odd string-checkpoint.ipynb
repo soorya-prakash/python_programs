{
 "cells": [
  {
   "cell_type": "code",
   "execution_count": 9,
   "metadata": {},
   "outputs": [
    {
     "name": "stdout",
     "output_type": "stream",
     "text": [
      "enter a wordhei\n",
      "h i \n",
      " e  \n",
      "h i \n"
     ]
    }
   ],
   "source": [
    "#casting a string to a list\n",
    "strr=list(input(\"enter a word\"))\n",
    "#loop for number of rows\n",
    "for i in range(len(strr)):\n",
    "    #j determines the printable character in each row\n",
    "    j=len(strr)-1-i\n",
    "    #loop for traversing all characters\n",
    "    for k in range(len(strr)):\n",
    "        #condition to print the character\n",
    "        if k==i or k==j:\n",
    "            print(strr[k],end=\"\")\n",
    "        else:\n",
    "            print(end=\" \")\n",
    "    print(\" \")"
   ]
  },
  {
   "cell_type": "code",
   "execution_count": null,
   "metadata": {},
   "outputs": [],
   "source": []
  }
 ],
 "metadata": {
  "kernelspec": {
   "display_name": "Python 3",
   "language": "python",
   "name": "python3"
  },
  "language_info": {
   "codemirror_mode": {
    "name": "ipython",
    "version": 3
   },
   "file_extension": ".py",
   "mimetype": "text/x-python",
   "name": "python",
   "nbconvert_exporter": "python",
   "pygments_lexer": "ipython3",
   "version": "3.7.0"
  }
 },
 "nbformat": 4,
 "nbformat_minor": 2
}
