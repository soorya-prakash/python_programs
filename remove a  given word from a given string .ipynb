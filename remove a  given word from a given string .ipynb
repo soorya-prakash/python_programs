{
 "cells": [
  {
   "cell_type": "code",
   "execution_count": 8,
   "metadata": {},
   "outputs": [
    {
     "name": "stdout",
     "output_type": "stream",
     "text": [
      "enter your stringhai this is soorya\n",
      "enter the wordhai\n",
      "['this', 'is', 'soorya']\n"
     ]
    }
   ],
   "source": [
    "li=list(input(\"enter your string\").split())\n",
    "remove=input(\"enter the word\")\n",
    "if remove in li:\n",
    "    li.remove(remove)\n",
    "    print(li)\n",
    "else:\n",
    "    print(\"given word is not in the given string\")"
   ]
  },
  {
   "cell_type": "code",
   "execution_count": 9,
   "metadata": {},
   "outputs": [
    {
     "name": "stdout",
     "output_type": "stream",
     "text": [
      "['hai', 'bro', 'are', 'you']\n"
     ]
    }
   ],
   "source": [
    "#using del to delete a item of a list\n",
    "li=['hai','bro','how','are','you']\n",
    "del li[2]\n",
    "print(li)"
   ]
  },
  {
   "cell_type": "code",
   "execution_count": null,
   "metadata": {},
   "outputs": [],
   "source": []
  }
 ],
 "metadata": {
  "kernelspec": {
   "display_name": "Python 3",
   "language": "python",
   "name": "python3"
  },
  "language_info": {
   "codemirror_mode": {
    "name": "ipython",
    "version": 3
   },
   "file_extension": ".py",
   "mimetype": "text/x-python",
   "name": "python",
   "nbconvert_exporter": "python",
   "pygments_lexer": "ipython3",
   "version": "3.7.0"
  }
 },
 "nbformat": 4,
 "nbformat_minor": 2
}
