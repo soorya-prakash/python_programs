{
 "cells": [
  {
   "cell_type": "code",
   "execution_count": 7,
   "metadata": {},
   "outputs": [
    {
     "name": "stdout",
     "output_type": "stream",
     "text": [
      "enter a stringhai soorya I am soorya \n",
      "hai is 0 times repeated\n",
      "soorya is 1 times repeated\n",
      "I is 0 times repeated\n",
      "am is 0 times repeated\n",
      "soorya is 0 times repeated\n"
     ]
    }
   ],
   "source": [
    "li=list(input(\"enter a string\").split())\n",
    "for i in range(len(li)):\n",
    "    temp=0\n",
    "    for j in range(i+1,len(li)):\n",
    "            if li[i]==li[j]:\n",
    "                temp=temp +1\n",
    "    print(\"{} is {} times repeated\".format(li[i],temp))"
   ]
  },
  {
   "cell_type": "code",
   "execution_count": null,
   "metadata": {},
   "outputs": [],
   "source": []
  }
 ],
 "metadata": {
  "kernelspec": {
   "display_name": "Python 3",
   "language": "python",
   "name": "python3"
  },
  "language_info": {
   "codemirror_mode": {
    "name": "ipython",
    "version": 3
   },
   "file_extension": ".py",
   "mimetype": "text/x-python",
   "name": "python",
   "nbconvert_exporter": "python",
   "pygments_lexer": "ipython3",
   "version": "3.7.0"
  }
 },
 "nbformat": 4,
 "nbformat_minor": 2
}
